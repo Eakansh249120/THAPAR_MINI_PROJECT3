{
  "nbformat": 4,
  "nbformat_minor": 0,
  "metadata": {
    "colab": {
      "provenance": [],
      "authorship_tag": "ABX9TyMjNOaYtvslqX/Mj0TyDnMq",
      "include_colab_link": true
    },
    "kernelspec": {
      "name": "python3",
      "display_name": "Python 3"
    },
    "language_info": {
      "name": "python"
    }
  },
  "cells": [
    {
      "cell_type": "markdown",
      "metadata": {
        "id": "view-in-github",
        "colab_type": "text"
      },
      "source": [
        "<a href=\"https://colab.research.google.com/github/Eakansh249120/THAPAR_MINI_PROJECT3/blob/main/THAPAR_MINI_PROJECT3.ipynb\" target=\"_parent\"><img src=\"https://colab.research.google.com/assets/colab-badge.svg\" alt=\"Open In Colab\"/></a>"
      ]
    },
    {
      "cell_type": "code",
      "execution_count": null,
      "metadata": {
        "id": "kVKj0vacngY3"
      },
      "outputs": [],
      "source": [
        "#-------------------MINI PROJECT 3-----------------------------------\n",
        "\n",
        "import random as r\n",
        "sum1=0\n",
        "l1=[]\n",
        "#here 1048576 are total possibilities\n",
        "s=[-12, -3, -6, 7, 2, -2, 6, 3, 9, -7, -5, -8, 1, 11, -9, -4]\n",
        "for i in range(0,1048576,1):\n",
        "    digits=r.sample(s,5)\n",
        "    a=int(digits[0])\n",
        "    b=int(digits[1])\n",
        "    c=int(digits[2])\n",
        "    d=int(digits[3])\n",
        "    e=int(digits[4])\n",
        "    sum1=a+b+c+d+e\n",
        "\n",
        "    if(sum1==0):\n",
        "        print(digits)\n",
        "\n",
        "\n",
        "\n",
        "\n",
        "\n",
        "\n",
        "\n",
        "\n"
      ]
    }
  ]
}